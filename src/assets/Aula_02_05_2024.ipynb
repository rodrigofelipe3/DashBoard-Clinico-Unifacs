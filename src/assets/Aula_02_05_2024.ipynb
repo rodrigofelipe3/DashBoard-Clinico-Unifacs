{
  "nbformat": 4,
  "nbformat_minor": 0,
  "metadata": {
    "colab": {
      "provenance": []
    },
    "kernelspec": {
      "name": "python3",
      "display_name": "Python 3"
    },
    "language_info": {
      "name": "python"
    }
  },
  "cells": [
    {
      "cell_type": "markdown",
      "source": [
        "Analisando Dados de Atendimento de Saúde\n",
        "\n",
        "Com base no arquivo CSV disponível vamos analisar os dados de atendimentos de saude de Unidades Hospitalares de Grupo Empresarial realizados em Feira de SantanaDF em Janeiro de 2023 a Dezembo 2023.\n",
        "\n",
        "Como obter os dados:\n",
        "    Arquivo: atendimento_saude_2K23.csv\n",
        "\n",
        "    Vamos seguir os seguintes Passos:\n",
        "    1. importar o Pandas\n",
        "    2. Criar o Dataframe com base no arquivo: atendimento_saude_2K23.csv\n",
        "      2.1 - no caso o csv foi criado a partir do excel acrescentar: **sep=';', encoding='cp1252'**\n",
        "    3. vamos verificar os dados no dataframe: Inicio (head), final (tail) e aleatório (sample)\n",
        "    4. mostrar um resumo quantitativo dos dados e seus tipos contidos no dataframe\n",
        "      4.1 - describe\n",
        "      4.2 - dtypes sem parenteses ou info\n",
        "    5. Contar valores\n",
        "      5.1 - count\n",
        "    6. obter informações de cada coluna separadamente\n",
        "      6.1 - df[coluna].values_counts()\n",
        "    7. obtendo numeros de linhas e colunas\n",
        "      7.1 - shape sem parenteses\n",
        "    8. criando grafico com matplotlib\n",
        "     8.1 - df[campo].value_counts().plot.bar()   \n",
        "    9. selecionando campos para o dataframe\n",
        "      9.1 - adiciona usecols=[indices] dentro do df\n",
        "    10. Mudando o nome da colunas do df\n",
        "      10.1 - Mudando o nome das colunas para um nome mais intuitivo\n",
        "    11. criar subconjuntos dos dados a partir de um campo\n",
        "      11.1 - df_novo = df[df[campo] == 'valor desejado']\n",
        "    12. Maximo, minimo\n",
        "      12.1 - df[df['mensalidade'] == df['mensalidade'].max()]  \n",
        "      12.2 - df[df['mensalidade'] == df['mensalidade'].min()]\n",
        "      12.3 - df.nlargelest(5, 'mensalidade') #maiores\n",
        "      12.4 - df.nsmallest(5, 'mensalidade') #menores\n"
      ],
      "metadata": {
        "id": "o2Pr2i18-C6K"
      }
    },
    {
      "cell_type": "code",
      "source": [],
      "metadata": {
        "id": "H11wrQrqQsLk"
      },
      "execution_count": null,
      "outputs": []
    },
    {
      "cell_type": "code",
      "source": [
        "#importar o Arquivo para dentro do Jupiter\n",
        "#1. Importar a Biblioteca pandas (é uma biblioteca de alto desempenho que fornece suporte para estruturas de dados e ferramentas de análise de dados de forma simplificada.\n",
        "#   A principal estrutura da biblioteca Pandas é o DataFrame, que possui uma grande quantidade de métodos para a manipulação de dados.\n",
        "\n",
        "import pandas as pd\n",
        "\n"
      ],
      "metadata": {
        "id": "7gc-Ukvw-tpI"
      },
      "execution_count": 21,
      "outputs": []
    },
    {
      "cell_type": "code",
      "source": [],
      "metadata": {
        "id": "XXj7GivyLU0f"
      },
      "execution_count": null,
      "outputs": []
    },
    {
      "cell_type": "code",
      "source": [],
      "metadata": {
        "id": "KCSGxQopLQAV"
      },
      "execution_count": null,
      "outputs": []
    }
  ]
}